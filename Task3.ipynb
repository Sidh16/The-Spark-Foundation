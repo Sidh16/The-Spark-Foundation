{
  "nbformat": 4,
  "nbformat_minor": 0,
  "metadata": {
    "colab": {
      "name": "Task3.ipynb",
      "provenance": [],
      "collapsed_sections": []
    },
    "kernelspec": {
      "name": "python3",
      "display_name": "Python 3"
    },
    "language_info": {
      "name": "python"
    }
  },
  "cells": [
    {
      "cell_type": "markdown",
      "metadata": {
        "id": "8nj205DJNGaE"
      },
      "source": [
        "#The Sparks Foundation\n",
        "##Name: Siddhesh Pravin Patil\n",
        "##Task 3 : Social Distancing Detector.\n",
        "###Problem Statement: Implement a real time Social Distancing detector which can identify the distance between two individuals in a crowd."
      ]
    },
    {
      "cell_type": "code",
      "metadata": {
        "id": "1TQvFeJFOwQ3"
      },
      "source": [
        "# import the necessary packages\n",
        "import matplotlib.pyplot as plt\n",
        "from scipy.spatial import distance as dist\n",
        "import numpy as np\n",
        "import imutils\n",
        "import cv2\n",
        "import os"
      ],
      "execution_count": null,
      "outputs": []
    },
    {
      "cell_type": "code",
      "metadata": {
        "id": "vcMvSXowO27f"
      },
      "source": [
        "# initialize minimum probability to filter weak detections along with the threshold when applying non-maxima suppression\n",
        "MIN_CONF = 0.3\n",
        "NMS_THRESH = 0.3"
      ],
      "execution_count": null,
      "outputs": []
    },
    {
      "cell_type": "code",
      "metadata": {
        "id": "AfdkhEusO_NL"
      },
      "source": [
        "def detect_people(frame, net, ln, personIdx=0):\n",
        "    # grab the dimensions of the frame and  initialize the list of results\n",
        "    (H, W) = frame.shape[:2]\n",
        "    results = []\n",
        "    \n",
        "    # construct a blob from the input frame and then perform a forward pass of the YOLO object detector, giving us our bounding boxes and associated probabilities\n",
        "    blob = cv2.dnn.blobFromImage(frame, 1 / 255.0, (416, 416),\n",
        "                                 swapRB=True, crop=False)\n",
        "    net.setInput(blob)\n",
        "    layerOutputs = net.forward(ln)\n",
        "    \n",
        "    # initialize our lists of detected bounding boxes, centroids, and confidences, respectively\n",
        "    boxes = []\n",
        "    centroids = []\n",
        "    confidences = []\n",
        "    \n",
        "    # loop over each of the layer outputs\n",
        "    for output in layerOutputs:\n",
        "        # loop over each of the detections\n",
        "        for detection in output:\n",
        "            # extract the class ID and confidence (i.e., probability) of the current object detection\n",
        "            scores = detection[5:]\n",
        "            classID = np.argmax(scores)\n",
        "            confidence = scores[classID]\n",
        "            \n",
        "            # filter detections by (1) ensuring that the object\n",
        "            # detected was a person and (2) that the minimum\n",
        "            # confidence is met\n",
        "            if classID == personIdx and confidence > MIN_CONF:\n",
        "                # scale the bounding box coordinates back relative to\n",
        "                # the size of the image, keeping in mind that YOLO\n",
        "                # actually returns the center (x, y)-coordinates of\n",
        "                # the bounding box followed by the boxes' width and\n",
        "                # height\n",
        "                box = detection[0:4] * np.array([W, H, W, H])\n",
        "                (centerX, centerY, width, height) = box.astype(\"int\")\n",
        "                \n",
        "                # use the center (x, y)-coordinates to derive the top\n",
        "                # and and left corner of the bounding box\n",
        "                x = int(centerX - (width / 2))\n",
        "                y = int(centerY - (height / 2))\n",
        "                \n",
        "                # update our list of bounding box coordinates,\n",
        "                # centroids, and confidences\n",
        "                boxes.append([x, y, int(width), int(height)])\n",
        "                centroids.append((centerX, centerY))\n",
        "                confidences.append(float(confidence))\n",
        "                \n",
        "    # apply non-maxima suppression to suppress weak, overlapping\n",
        "    # bounding boxes\n",
        "    idxs = cv2.dnn.NMSBoxes(boxes, confidences, MIN_CONF, NMS_THRESH)\n",
        "    \n",
        "    # ensure at least one detection exists\n",
        "    if len(idxs) > 0:\n",
        "        # loop over the indexes we are keeping\n",
        "        for i in idxs.flatten():\n",
        "            # extract the bounding box coordinates\n",
        "            (x, y) = (boxes[i][0], boxes[i][1])\n",
        "            (w, h) = (boxes[i][2], boxes[i][3])\n",
        "            \n",
        "            # update our results list to consist of the person\n",
        "            # prediction probability, bounding box coordinates,\n",
        "            # and the centroid\n",
        "            r = (confidences[i], (x, y, x + w, y + h), centroids[i])\n",
        "            results.append(r)\n",
        "            \n",
        "    # return the list of results\n",
        "    return results"
      ],
      "execution_count": null,
      "outputs": []
    },
    {
      "cell_type": "code",
      "metadata": {
        "id": "5eO0tKbgPPON"
      },
      "source": [
        "# boolean indicating if NVIDIA CUDA GPU should be used\n",
        "USE_GPU = False\n",
        "\n",
        "# define the minimum safe distance (in pixels) that two people can be\n",
        "# from each other\n",
        "MIN_DISTANCE = 50\n",
        "\n",
        "display=1"
      ],
      "execution_count": null,
      "outputs": []
    },
    {
      "cell_type": "code",
      "metadata": {
        "id": "g2M3aXELPqON"
      },
      "source": [
        "# load the COCO class labels our YOLO model was trained on\n",
        "labelsPath =\"coco.names\"\n",
        "LABELS = open(labelsPath).read().strip().split(\"\\n\")\n",
        "#LABELS"
      ],
      "execution_count": null,
      "outputs": []
    },
    {
      "cell_type": "code",
      "metadata": {
        "id": "BEr5j0DsPuMc"
      },
      "source": [
        "# derive the paths to the YOLO weights and model configuration\n",
        "\n",
        "weightsPath = \"yolov3.weights\"\n",
        "\n",
        "configPath =\"yolov3.cfg\"\n",
        "\n",
        "# load our YOLO object detector trained on COCO dataset (80 classes)\n",
        "print(\"loading YOLO from disk...\")\n",
        "net = cv2.dnn.readNetFromDarknet(configPath, weightsPath)\n",
        "loading YOLO from disk..."
      ],
      "execution_count": null,
      "outputs": []
    },
    {
      "cell_type": "code",
      "metadata": {
        "id": "XCwBH7KFQGTz"
      },
      "source": [
        "# check if we are going to use GPU\n",
        "if USE_GPU:\n",
        "    # set CUDA as the preferable backend and target\n",
        "    print(\"setting preferable backend and target to CUDA...\")\n",
        "    net.setPreferableBackend(cv2.dnn.DNN_BACKEND_CUDA)\n",
        "    net.setPreferableTarget(cv2.dnn.DNN_TARGET_CUDA)"
      ],
      "execution_count": null,
      "outputs": []
    },
    {
      "cell_type": "code",
      "metadata": {
        "id": "VPibSyByQCjQ"
      },
      "source": [
        "# determine only the *output* layer names that we need from YOLO\n",
        "ln = net.getLayerNames()\n",
        "ln = [ln[i[0] - 1] for i in net.getUnconnectedOutLayers()]"
      ],
      "execution_count": null,
      "outputs": []
    },
    {
      "cell_type": "code",
      "metadata": {
        "id": "iYpZW43UQ8Yl"
      },
      "source": [
        "image_one=\"images.jpg\"\n",
        "image_two=\"social.png\"\n",
        "\n",
        "frame=cv2.imread(image_two)\n",
        "plt.imshow(frame)"
      ],
      "execution_count": null,
      "outputs": []
    },
    {
      "cell_type": "code",
      "metadata": {
        "id": "fGsmq8jnR8oN"
      },
      "source": [
        "<matplotlib.image.AxesImage at 0x1e0aeb7e370>\n"
      ],
      "execution_count": null,
      "outputs": []
    },
    {
      "cell_type": "code",
      "metadata": {
        "id": "QZCKJFQdSgnv"
      },
      "source": [
        "# resize the frame and then detect people (and only people) in it\n",
        "frame = imutils.resize(frame, width=700)\n",
        "results = detect_people(frame, net, ln,\n",
        "                        personIdx=LABELS.index(\"person\"))\n",
        "\n",
        "# initialize the set of indexes that violate the minimum social\n",
        "# distance\n",
        "violate = set()"
      ],
      "execution_count": null,
      "outputs": []
    },
    {
      "cell_type": "code",
      "metadata": {
        "id": "zTgLzBQhShYb"
      },
      "source": [
        "# ensure there are *at least* two people detections (required in\n",
        "# order to compute our pairwise distance maps)\n",
        "if len(results) >= 2:\n",
        "    # extract all centroids from the results and compute the\n",
        "    # Euclidean distances between all pairs of the centroids\n",
        "    centroids = np.array([r[2] for r in results])\n",
        "    D = dist.cdist(centroids, centroids, metric=\"euclidean\")\n",
        "    \n",
        "    # loop over the upper triangular of the distance matrix\n",
        "    for i in range(0, D.shape[0]):\n",
        "        for j in range(i + 1, D.shape[1]):\n",
        "            # check to see if the distance between any two\n",
        "            # centroid pairs is less than the configured number\n",
        "            # of pixels\n",
        "            if D[i, j] < MIN_DISTANCE:\n",
        "                # update our violation set with the indexes of\n",
        "                # the centroid pairs\n",
        "                violate.add(i)\n",
        "                violate.add(j)"
      ],
      "execution_count": null,
      "outputs": []
    },
    {
      "cell_type": "code",
      "metadata": {
        "id": "-yxMoIn7Sh6G"
      },
      "source": [
        "# loop over the results\n",
        "for (i, (prob, bbox, centroid)) in enumerate(results):\n",
        "    # extract the bounding box and centroid coordinates, then\n",
        "    # initialize the color of the annotation\n",
        "    (startX, startY, endX, endY) = bbox\n",
        "    (cX, cY) = centroid\n",
        "    color = (0, 255, 0)\n",
        "    \n",
        "    # if the index pair exists within the violation set, then\n",
        "    # update the color\n",
        "    if i in violate:\n",
        "        color = (0, 0, 255)\n",
        "        \n",
        "    # draw (1) a bounding box around the person and (2) the\n",
        "    # centroid coordinates of the person,\n",
        "    cv2.rectangle(frame, (startX, startY), (endX, endY), color, 2)\n",
        "    cv2.circle(frame, (cX, cY), 5, color, 1)"
      ],
      "execution_count": null,
      "outputs": []
    },
    {
      "cell_type": "code",
      "metadata": {
        "id": "eZf81gYKTU5u"
      },
      "source": [
        "frame=cv2.cvtColor(frame, cv2.COLOR_BGR2RGB)\n",
        "plt.imshow(frame)"
      ],
      "execution_count": null,
      "outputs": []
    },
    {
      "cell_type": "code",
      "metadata": {
        "id": "ypBeWT9QTVZU"
      },
      "source": [
        "<matplotlib.image.AxesImage at 0x1e0aebeb220>\n"
      ],
      "execution_count": null,
      "outputs": []
    },
    {
      "cell_type": "code",
      "metadata": {
        "id": "mki80mGZTee3"
      },
      "source": [
        "# draw the total number of social distancing violations on the\n",
        "# output frame\n",
        "text = \"Social Distancing Violations: {}\".format(len(violate))\n",
        "cv2.putText(frame, text, (10, frame.shape[0] - 25),\n",
        "            cv2.FONT_HERSHEY_SIMPLEX, 0.85, (0, 0, 255), 3)\n",
        "    \n",
        "# show the output frame\n",
        "cv2.imshow(\"Frame\", frame)\n",
        "cv2.waitKey(0)==13\n",
        "cv2.destroyAllWindows()"
      ],
      "execution_count": null,
      "outputs": []
    },
    {
      "cell_type": "markdown",
      "metadata": {
        "id": "OSiwwJ89Tlfj"
      },
      "source": [
        "#Thank you."
      ]
    }
  ]
}